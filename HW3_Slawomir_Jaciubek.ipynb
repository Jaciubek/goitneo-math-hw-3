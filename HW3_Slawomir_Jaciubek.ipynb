{
  "nbformat": 4,
  "nbformat_minor": 0,
  "metadata": {
    "colab": {
      "provenance": []
    },
    "kernelspec": {
      "name": "python3",
      "display_name": "Python 3"
    },
    "language_info": {
      "name": "python"
    }
  },
  "cells": [
    {
      "cell_type": "markdown",
      "source": [
        "Task 1\n",
        "Consider a billiard table as a plane. The billiard ball speed before hitting the cushion was (3,2). After hitting the cushion the ball moved at the speed described by the vector (0,-4). What is the speed of the ball after hitting the cushion? Formulate this task calculations graphically and with the help of the NumPy library.\n",
        "\n",
        "Calculate the angle of the hit of the ball."
      ],
      "metadata": {
        "id": "bjIZxXqqE9yq"
      }
    },
    {
      "cell_type": "code",
      "execution_count": null,
      "metadata": {
        "colab": {
          "base_uri": "https://localhost:8080/"
        },
        "id": "VtBj4KT1ESRj",
        "outputId": "5c4cc853-9ffc-4bf4-ebf6-d8cd3e5e3262"
      },
      "outputs": [
        {
          "output_type": "stream",
          "name": "stdout",
          "text": [
            "New speed of the ball is: [ 3 -2]\n"
          ]
        }
      ],
      "source": [
        "# calculating the new speed of the ball\n",
        "import numpy as np\n",
        "\n",
        "# defining velocity vectors\n",
        "a = np.array([3,2])\n",
        "b = np.array([0,-4])\n",
        "\n",
        "# calculating vector sum (final velocity)\n",
        "c = a + b\n",
        "\n",
        "print (f'New speed of the ball is: {c}')"
      ]
    },
    {
      "cell_type": "code",
      "source": [
        "# calculating the angle at which the ball hits the cushion\n",
        "\n",
        "from numpy import linalg as LA\n",
        "\n",
        "cos_angle = np.dot(a, b) / LA.norm(a) / LA.norm(b)\n",
        "\n",
        "print(f\"Cosine of the angle is:{cos_angle}\")\n",
        "print(f\"Value of the angle (rads) is: {np.arccos(cos_angle)}\")"
      ],
      "metadata": {
        "colab": {
          "base_uri": "https://localhost:8080/"
        },
        "id": "mJ-3D85oGzA5",
        "outputId": "24f97fa9-9761-4aca-fa7a-ba600e95c33a"
      },
      "execution_count": null,
      "outputs": [
        {
          "output_type": "stream",
          "name": "stdout",
          "text": [
            "Cosine of the angle is:-0.5547001962252291\n",
            "Value of the angle (rads) is: 2.1587989303424644\n"
          ]
        }
      ]
    },
    {
      "cell_type": "code",
      "source": [
        "import matplotlib.pyplot as plt\n",
        "\n",
        "plt.figure()\n",
        "\n",
        "# Drawing vector a\n",
        "plt.quiver(0, 0, a[0], a[1], angles='xy', scale_units='xy', scale=1, color='magenta', label='a [3,2]')\n",
        "\n",
        "# Drawing vector b\n",
        "plt.quiver(a[0], a[1], b[0], b[1], angles='xy', scale_units='xy', scale=1, color='green', label='b [0,-4]')\n",
        "\n",
        "# Drawing vector c\n",
        "plt.quiver(0, 0, c[0], c[1], angles='xy', scale_units='xy', scale=1, color='orange', label='c [3,-2]')\n",
        "\n",
        "plt.xlim(-1, 5)\n",
        "plt.ylim(-5, 3)\n",
        "plt.axhline(0, color='black',linewidth=0.5)\n",
        "plt.axvline(0, color='black',linewidth=0.5)\n",
        "plt.grid(True)\n",
        "plt.legend()\n",
        "plt.show()"
      ],
      "metadata": {
        "colab": {
          "base_uri": "https://localhost:8080/",
          "height": 435
        },
        "id": "1lLA6P5nIX5a",
        "outputId": "b4e509fa-adbe-4fb7-beb1-68f40a701159"
      },
      "execution_count": null,
      "outputs": [
        {
          "output_type": "display_data",
          "data": {
            "text/plain": [
              "<Figure size 640x480 with 1 Axes>"
            ],
            "image/png": "[encoded data removed]"
          },
          "metadata": {}
        }
      ]
    },
    {
      "cell_type": "markdown",
      "source": [
        "Task 2\n",
        "Two billiard balls collided. The first ball was rolling at the speed that can be described by the vector (0,5). And after the collision, the ball rolls at speed (1,2). Let's assume that there was no momentum loss during the collision (that is, the sum of the the vector moduli remained unchanged, and the product of the speed vectors of the balls gives the primary vector). What is the speed vector of the second ball? первинний вектор)\n",
        "\n"
      ],
      "metadata": {
        "id": "1v_g9UIHLFsH"
      }
    },
    {
      "cell_type": "code",
      "source": [
        "# initial velocity of the first ball\n",
        "a = np.array([0, 5])\n",
        "\n",
        "# final velocity of the first ball\n",
        "c = np.array([1, 2])\n",
        "\n",
        "# final velocity of the first ball\n",
        "c = np.array([1, 2])\n",
        "\n",
        "# calculating velocity of the second ball\n",
        "\n",
        "b = c - a\n",
        "\n",
        "print(f\"Velocity of the second ball is: {b}\")"
      ],
      "metadata": {
        "colab": {
          "base_uri": "https://localhost:8080/"
        },
        "id": "Tb_fNeNMLc0s",
        "outputId": "a1362f28-ed2c-4bd9-ec49-8cc926ca9ddd"
      },
      "execution_count": null,
      "outputs": [
        {
          "output_type": "stream",
          "name": "stdout",
          "text": [
            "Velocity of the second ball is: [ 1 -3]\n"
          ]
        }
      ]
    },
    {
      "cell_type": "markdown",
      "source": [
        "Task 3\n",
        "Goods in the industry are produced at a speed that can be described by the vector (1,5,2,6,7). Due to negative force majeure events, changes for the current year can be characterized as (0,-1,0,-0,-1), but the industry still maintains a growth of 20% per year. How long will it take for the industry to completely overcome the consequences of the force majeure circumstances?"
      ],
      "metadata": {
        "id": "5T_J5r06NBWA"
      }
    },
    {
      "cell_type": "code",
      "source": [
        "# defining the vectors\n",
        "a = np.array([1, 5, 2, 6, 7]) #vector a define the production speed of goods in the industry, with components indicating the speed for each type of product.\n",
        "\n",
        "b = np.array([0, -1, 0,- 0, -1]) # vector b define the changes in production speeds due to negative force majeure events over the last year\n",
        "\n",
        "# checking if all elements of the speed vector are positive\n",
        "all_positive = np.all(a > 0)\n",
        "print(all_positive)"
      ],
      "metadata": {
        "colab": {
          "base_uri": "https://localhost:8080/"
        },
        "id": "OxU1zuYKNN1K",
        "outputId": "851288b3-5796-4eb5-b890-ed8686617095"
      },
      "execution_count": null,
      "outputs": [
        {
          "output_type": "stream",
          "name": "stdout",
          "text": [
            "True\n"
          ]
        }
      ]
    },
    {
      "cell_type": "code",
      "source": [
        "# calculating the growth vector 'da'\n",
        "growth_rate = 0.2\n",
        "da = a * growth_rate\n",
        "\n",
        "print(da)"
      ],
      "metadata": {
        "colab": {
          "base_uri": "https://localhost:8080/"
        },
        "id": "hZmibBc3Pvto",
        "outputId": "60eb058c-b7c2-4e4c-fe05-9807590f03f7"
      },
      "execution_count": null,
      "outputs": [
        {
          "output_type": "stream",
          "name": "stdout",
          "text": [
            "[0.2 1.  0.4 1.2 1.4]\n"
          ]
        }
      ]
    },
    {
      "cell_type": "code",
      "source": [
        "# calculation of effective change vector:\n",
        "change = da + b\n",
        "\n",
        "print(change)"
      ],
      "metadata": {
        "colab": {
          "base_uri": "https://localhost:8080/"
        },
        "id": "C9P0KEvfQAer",
        "outputId": "41d50dc8-9891-4e3a-d3ce-488b4e2e5e4a"
      },
      "execution_count": null,
      "outputs": [
        {
          "output_type": "stream",
          "name": "stdout",
          "text": [
            "[0.2 0.  0.4 1.2 0.4]\n"
          ]
        }
      ]
    },
    {
      "cell_type": "code",
      "source": [
        "# define the difference vector and years counter\n",
        "\n",
        "diff_vector = -b\n",
        "years = 0\n",
        "\n",
        "# Loop to accumulate changes until all components of the difference are >=0\n",
        "while not np.all(diff_vector >= 0):\n",
        "    years += 1\n",
        "    diff_vector += change  # Add the yearly effective change\n",
        "print(diff_vector)\n",
        "\n",
        "# Finally: the industry will recover its losses in the same year, thanks to a 20% rate of return."
      ],
      "metadata": {
        "colab": {
          "base_uri": "https://localhost:8080/"
        },
        "id": "ROCW2DOwQOzZ",
        "outputId": "24cdf703-1e7c-4e1c-d6bb-1b7a81989664"
      },
      "execution_count": null,
      "outputs": [
        {
          "output_type": "stream",
          "name": "stdout",
          "text": [
            "[0 1 0 0 1]\n"
          ]
        }
      ]
    }
  ]
}